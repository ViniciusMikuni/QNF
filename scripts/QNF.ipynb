{
 "cells": [
  {
   "cell_type": "code",
   "execution_count": 1,
   "id": "65b8334e-426a-4300-a99b-bebe972d7600",
   "metadata": {
    "tags": []
   },
   "outputs": [],
   "source": [
    "import methods\n",
    "import numpy as np\n",
    "import tensorflow as tf\n",
    "from tensorflow import keras\n",
    "import matplotlib.pyplot as plt\n",
    "from scipy.stats import norm"
   ]
  },
  {
   "cell_type": "code",
   "execution_count": 2,
   "id": "0ee3faac-a5ef-40f6-baa0-8612b0018ef3",
   "metadata": {
    "tags": []
   },
   "outputs": [],
   "source": [
    "file_name = '/global/cfs/cdirs/m3246/vmikuni/QNF/piplus.hdf5'\n",
    "e,layer_energies = methods.DataLoaderCaloGAN(file_name)"
   ]
  },
  {
   "cell_type": "code",
   "execution_count": 3,
   "id": "ea7134c8-df0f-4bb3-817a-4eb74e2f2acb",
   "metadata": {
    "tags": []
   },
   "outputs": [
    {
     "data": {
      "text/plain": [
       "(array([ 9888.,  9844.,  9901., 10177., 10177., 10035.,  9978.,  9949.,\n",
       "        10132.,  9919.]),\n",
       " array([0.01000172, 0.10900088, 0.20800003, 0.30699918, 0.40599835,\n",
       "        0.50499749, 0.60399663, 0.70299578, 0.80199498, 0.90099412,\n",
       "        0.99999326]),\n",
       " <BarContainer object of 10 artists>)"
      ]
     },
     "execution_count": 3,
     "metadata": {},
     "output_type": "execute_result"
    },
    {
     "data": {
      "image/png": "[encoded data removed]",
      "text/plain": [
       "<Figure size 640x480 with 1 Axes>"
      ]
     },
     "metadata": {},
     "output_type": "display_data"
    }
   ],
   "source": [
    "plt.hist(e,bins=10)"
   ]
  },
  {
   "cell_type": "code",
   "execution_count": 4,
   "id": "b91726ab-602b-4449-bcac-2eb5ec645f6b",
   "metadata": {
    "tags": []
   },
   "outputs": [],
   "source": [
    "model,dist = methods.MADE(e.shape[1],layer_energies.shape[1])"
   ]
  },
  {
   "cell_type": "code",
   "execution_count": null,
   "id": "db207d11-cc9b-4142-99b6-0d153a8fbfda",
   "metadata": {
    "tags": []
   },
   "outputs": [
    {
     "name": "stdout",
     "output_type": "stream",
     "text": [
      "Epoch 1/200\n",
      "782/782 [==============================] - 11s 8ms/step - loss: 0.1256\n",
      "Epoch 2/200\n",
      "782/782 [==============================] - 6s 8ms/step - loss: -0.0101\n",
      "Epoch 3/200\n",
      "782/782 [==============================] - 6s 8ms/step - loss: -0.1088\n",
      "Epoch 4/200\n",
      "782/782 [==============================] - 6s 8ms/step - loss: -0.1889\n",
      "Epoch 5/200\n",
      "782/782 [==============================] - 6s 8ms/step - loss: -0.2378\n",
      "Epoch 6/200\n",
      "782/782 [==============================] - 6s 8ms/step - loss: -0.2683\n",
      "Epoch 7/200\n",
      "782/782 [==============================] - 6s 8ms/step - loss: -0.2919\n",
      "Epoch 8/200\n",
      "782/782 [==============================] - 6s 8ms/step - loss: -0.3060\n",
      "Epoch 9/200\n",
      "782/782 [==============================] - 6s 8ms/step - loss: -0.3238\n",
      "Epoch 10/200\n",
      "782/782 [==============================] - 6s 8ms/step - loss: -0.3233\n",
      "Epoch 11/200\n",
      "782/782 [==============================] - 6s 8ms/step - loss: -0.3344\n",
      "Epoch 12/200\n",
      "782/782 [==============================] - 6s 8ms/step - loss: -0.3361\n",
      "Epoch 13/200\n",
      "782/782 [==============================] - 6s 7ms/step - loss: -0.3443\n",
      "Epoch 14/200\n",
      "782/782 [==============================] - 6s 8ms/step - loss: -0.3408\n",
      "Epoch 15/200\n",
      "782/782 [==============================] - 6s 8ms/step - loss: -0.3548\n",
      "Epoch 16/200\n",
      "782/782 [==============================] - 6s 8ms/step - loss: -0.3481\n",
      "Epoch 17/200\n",
      "782/782 [==============================] - 6s 8ms/step - loss: -0.3572\n",
      "Epoch 18/200\n",
      "782/782 [==============================] - 6s 8ms/step - loss: -0.3623\n",
      "Epoch 19/200\n",
      "782/782 [==============================] - 6s 8ms/step - loss: -0.3606\n",
      "Epoch 20/200\n",
      "782/782 [==============================] - 6s 8ms/step - loss: -0.3614\n",
      "Epoch 21/200\n",
      "782/782 [==============================] - 6s 8ms/step - loss: -0.3664\n",
      "Epoch 22/200\n",
      "782/782 [==============================] - 6s 7ms/step - loss: -0.3654\n",
      "Epoch 23/200\n",
      "782/782 [==============================] - 6s 8ms/step - loss: -0.3720\n",
      "Epoch 24/200\n",
      "782/782 [==============================] - 6s 8ms/step - loss: -0.3692\n",
      "Epoch 25/200\n",
      "782/782 [==============================] - 6s 8ms/step - loss: -0.3731\n",
      "Epoch 26/200\n",
      "782/782 [==============================] - 6s 8ms/step - loss: -0.3712\n",
      "Epoch 27/200\n",
      "782/782 [==============================] - 6s 8ms/step - loss: -0.3791\n",
      "Epoch 28/200\n",
      "782/782 [==============================] - 6s 8ms/step - loss: -0.3825\n",
      "Epoch 29/200\n",
      "782/782 [==============================] - 6s 8ms/step - loss: -0.3794\n",
      "Epoch 30/200\n",
      "782/782 [==============================] - 6s 8ms/step - loss: -0.3781\n",
      "Epoch 31/200\n",
      "782/782 [==============================] - 6s 8ms/step - loss: -0.3835\n",
      "Epoch 32/200\n",
      "782/782 [==============================] - 6s 8ms/step - loss: -0.3868\n",
      "Epoch 33/200\n",
      "782/782 [==============================] - 6s 8ms/step - loss: -0.3854\n",
      "Epoch 34/200\n",
      "782/782 [==============================] - 6s 8ms/step - loss: -0.3903\n",
      "Epoch 35/200\n",
      "782/782 [==============================] - 6s 8ms/step - loss: -0.3910\n",
      "Epoch 36/200\n",
      "782/782 [==============================] - 6s 8ms/step - loss: -0.3918\n",
      "Epoch 37/200\n",
      "782/782 [==============================] - 6s 8ms/step - loss: -0.3943\n",
      "Epoch 38/200\n",
      "782/782 [==============================] - 6s 8ms/step - loss: -0.3948\n",
      "Epoch 39/200\n",
      "782/782 [==============================] - 6s 7ms/step - loss: -0.3947\n",
      "Epoch 40/200\n",
      "782/782 [==============================] - 6s 8ms/step - loss: -0.3981\n",
      "Epoch 41/200\n",
      "782/782 [==============================] - 6s 8ms/step - loss: -0.3960\n",
      "Epoch 42/200\n",
      "782/782 [==============================] - 6s 8ms/step - loss: -0.3989\n",
      "Epoch 43/200\n",
      "782/782 [==============================] - 6s 8ms/step - loss: -0.3970\n",
      "Epoch 44/200\n",
      "782/782 [==============================] - 6s 8ms/step - loss: -0.3985\n",
      "Epoch 45/200\n",
      "782/782 [==============================] - 6s 8ms/step - loss: -0.4032\n",
      "Epoch 46/200\n",
      "782/782 [==============================] - 6s 8ms/step - loss: -0.4002\n",
      "Epoch 47/200\n",
      "782/782 [==============================] - 6s 8ms/step - loss: -0.4040\n",
      "Epoch 48/200\n",
      "782/782 [==============================] - 6s 8ms/step - loss: -0.4036\n",
      "Epoch 49/200\n",
      "782/782 [==============================] - 6s 8ms/step - loss: -0.4042\n",
      "Epoch 50/200\n",
      "782/782 [==============================] - 6s 8ms/step - loss: -0.4039\n",
      "Epoch 51/200\n",
      "782/782 [==============================] - 6s 8ms/step - loss: -0.4053\n",
      "Epoch 52/200\n",
      "782/782 [==============================] - 6s 8ms/step - loss: -0.4079\n",
      "Epoch 53/200\n",
      "782/782 [==============================] - 6s 8ms/step - loss: -0.4081\n",
      "Epoch 54/200\n",
      "782/782 [==============================] - 6s 8ms/step - loss: -0.4059\n",
      "Epoch 55/200\n",
      "782/782 [==============================] - 6s 8ms/step - loss: -0.4075\n",
      "Epoch 56/200\n",
      "782/782 [==============================] - 6s 8ms/step - loss: -0.4085\n",
      "Epoch 57/200\n",
      "782/782 [==============================] - 6s 8ms/step - loss: -0.4110\n",
      "Epoch 58/200\n",
      "782/782 [==============================] - 6s 8ms/step - loss: -0.4122\n",
      "Epoch 59/200\n",
      "782/782 [==============================] - 6s 8ms/step - loss: -0.4137\n",
      "Epoch 60/200\n",
      "782/782 [==============================] - 6s 8ms/step - loss: -0.4135\n",
      "Epoch 61/200\n",
      "782/782 [==============================] - 6s 8ms/step - loss: -0.4108\n",
      "Epoch 62/200\n",
      "782/782 [==============================] - 6s 8ms/step - loss: -0.4154\n",
      "Epoch 63/200\n",
      " 99/782 [==>...........................] - ETA: 5s - loss: -0.4107"
     ]
    }
   ],
   "source": [
    "batch_size = 128\n",
    "myhistory = model.fit([e,layer_energies],\n",
    "                    y=np.ones((len(e),0), dtype=np.float32), #dummy labels                                                                                                                                   \n",
    "                    batch_size=batch_size,\n",
    "                    epochs=200,\n",
    "                    verbose = 1)"
   ]
  },
  {
   "cell_type": "code",
   "execution_count": null,
   "id": "2e316846-8e55-46a5-9c5e-580bf67e0615",
   "metadata": {
    "tags": []
   },
   "outputs": [],
   "source": [
    "bijector_kwargs = methods.make_bijector_kwargs(\n",
    "                dist.bijector, {'made.': {'conditional_input': layer_energies}})\n",
    "output = dist.sample(layer_energies.shape[0], bijector_kwargs=bijector_kwargs).numpy()    "
   ]
  },
  {
   "cell_type": "code",
   "execution_count": null,
   "id": "ee0d8d84-07f5-434e-ae9b-d2cce70bc392",
   "metadata": {
    "tags": []
   },
   "outputs": [],
   "source": [
    "plt.hist(output,bins=10,range=(0,1))"
   ]
  },
  {
   "cell_type": "code",
   "execution_count": null,
   "id": "4f4abe30-a0a0-4072-98f4-60650cd37c98",
   "metadata": {},
   "outputs": [],
   "source": [
    "gaussian = dist.bijector.inverse(e,**bijector_kwargs).numpy()"
   ]
  },
  {
   "cell_type": "code",
   "execution_count": null,
   "id": "4ed2a466-1785-4464-9501-5b7ee8586a84",
   "metadata": {
    "tags": []
   },
   "outputs": [],
   "source": [
    "uniform = norm.cdf(gaussian)"
   ]
  },
  {
   "cell_type": "code",
   "execution_count": null,
   "id": "1dfb88d8-2d23-4a97-9096-2555dfab1071",
   "metadata": {
    "tags": []
   },
   "outputs": [],
   "source": [
    "plt.hist(uniform,bins=10)"
   ]
  },
  {
   "cell_type": "code",
   "execution_count": null,
   "id": "bb20c88d-95e4-4bba-ac79-bef6bfab5f4d",
   "metadata": {},
   "outputs": [],
   "source": []
  }
 ],
 "metadata": {
  "kernelspec": {
   "display_name": "tensorflow-2.9.0",
   "language": "python",
   "name": "tensorflow-2.9.0"
  },
  "language_info": {
   "codemirror_mode": {
    "name": "ipython",
    "version": 3
   },
   "file_extension": ".py",
   "mimetype": "text/x-python",
   "name": "python",
   "nbconvert_exporter": "python",
   "pygments_lexer": "ipython3",
   "version": "3.9.15"
  }
 },
 "nbformat": 4,
 "nbformat_minor": 5
}
